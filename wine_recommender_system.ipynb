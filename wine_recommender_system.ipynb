{
 "cells": [
  {
   "cell_type": "code",
   "execution_count": 1,
   "metadata": {},
   "outputs": [
    {
     "name": "stderr",
     "output_type": "stream",
     "text": [
      "[nltk_data] Downloading package stopwords to\n",
      "[nltk_data]     C:\\Users\\Eugene\\AppData\\Roaming\\nltk_data...\n",
      "[nltk_data]   Package stopwords is already up-to-date!\n",
      "[nltk_data] Downloading package punkt to\n",
      "[nltk_data]     C:\\Users\\Eugene\\AppData\\Roaming\\nltk_data...\n",
      "[nltk_data]   Package punkt is already up-to-date!\n",
      "[nltk_data] Downloading package wordnet to\n",
      "[nltk_data]     C:\\Users\\Eugene\\AppData\\Roaming\\nltk_data...\n",
      "[nltk_data]   Package wordnet is already up-to-date!\n",
      "[nltk_data] Downloading package omw-1.4 to\n",
      "[nltk_data]     C:\\Users\\Eugene\\AppData\\Roaming\\nltk_data...\n",
      "[nltk_data]   Package omw-1.4 is already up-to-date!\n"
     ]
    }
   ],
   "source": [
    "import pandas as pd\n",
    "import numpy as np\n",
    "from sklearn.feature_extraction.text import TfidfVectorizer\n",
    "from sklearn.metrics.pairwise import cosine_similarity\n",
    "import nltk\n",
    "nltk.download('stopwords')\n",
    "nltk.download('punkt')\n",
    "nltk.download('wordnet')\n",
    "nltk.download('omw-1.4')\n",
    "from nltk.corpus import stopwords\n",
    "from nltk.stem import WordNetLemmatizer\n",
    "from nltk.tokenize import word_tokenize\n",
    "import re"
   ]
  },
  {
   "cell_type": "code",
   "execution_count": 2,
   "metadata": {},
   "outputs": [
    {
     "data": {
      "text/plain": [
       "(47673, 12)"
      ]
     },
     "execution_count": 2,
     "metadata": {},
     "output_type": "execute_result"
    }
   ],
   "source": [
    "wine_reviews = pd.read_csv('datasets\\winemag-data-130k-v2.csv').drop(['Unnamed: 0', 'region_2'], axis=1).dropna().drop_duplicates()\n",
    "wine_reviews.head()\n",
    "wine_reviews.shape"
   ]
  },
  {
   "cell_type": "code",
   "execution_count": 27,
   "metadata": {},
   "outputs": [
    {
     "data": {
      "text/html": [
       "<div>\n",
       "<style scoped>\n",
       "    .dataframe tbody tr th:only-of-type {\n",
       "        vertical-align: middle;\n",
       "    }\n",
       "\n",
       "    .dataframe tbody tr th {\n",
       "        vertical-align: top;\n",
       "    }\n",
       "\n",
       "    .dataframe thead th {\n",
       "        text-align: right;\n",
       "    }\n",
       "</style>\n",
       "<table border=\"1\" class=\"dataframe\">\n",
       "  <thead>\n",
       "    <tr style=\"text-align: right;\">\n",
       "      <th></th>\n",
       "      <th>index</th>\n",
       "      <th>country</th>\n",
       "      <th>description</th>\n",
       "      <th>designation</th>\n",
       "      <th>points</th>\n",
       "      <th>price</th>\n",
       "      <th>province</th>\n",
       "      <th>region_1</th>\n",
       "      <th>taster_name</th>\n",
       "      <th>taster_twitter_handle</th>\n",
       "      <th>title</th>\n",
       "      <th>variety</th>\n",
       "      <th>winery</th>\n",
       "    </tr>\n",
       "  </thead>\n",
       "  <tbody>\n",
       "    <tr>\n",
       "      <th>0</th>\n",
       "      <td>47372</td>\n",
       "      <td>US</td>\n",
       "      <td>Drew is single-handedly making a case for the ...</td>\n",
       "      <td>Perli Vineyard</td>\n",
       "      <td>93</td>\n",
       "      <td>40.0</td>\n",
       "      <td>California</td>\n",
       "      <td>Mendocino Ridge</td>\n",
       "      <td>Virginie Boone</td>\n",
       "      <td>@vboone</td>\n",
       "      <td>Drew 2011 Perli Vineyard Syrah (Mendocino Ridge)</td>\n",
       "      <td>Syrah</td>\n",
       "      <td>Drew</td>\n",
       "    </tr>\n",
       "    <tr>\n",
       "      <th>1</th>\n",
       "      <td>95177</td>\n",
       "      <td>US</td>\n",
       "      <td>Dried sage and a hint of saddle leather highli...</td>\n",
       "      <td>Carlisle Vineyard</td>\n",
       "      <td>91</td>\n",
       "      <td>34.0</td>\n",
       "      <td>California</td>\n",
       "      <td>Russian River Valley</td>\n",
       "      <td>Virginie Boone</td>\n",
       "      <td>@vboone</td>\n",
       "      <td>Novy 2014 Carlisle Vineyard Zinfandel (Russian...</td>\n",
       "      <td>Zinfandel</td>\n",
       "      <td>Novy</td>\n",
       "    </tr>\n",
       "    <tr>\n",
       "      <th>2</th>\n",
       "      <td>49479</td>\n",
       "      <td>US</td>\n",
       "      <td>Earth, mushroom and forest floor intrigue from...</td>\n",
       "      <td>Sangiacomo Vineyard</td>\n",
       "      <td>92</td>\n",
       "      <td>59.0</td>\n",
       "      <td>California</td>\n",
       "      <td>Sonoma Coast</td>\n",
       "      <td>Virginie Boone</td>\n",
       "      <td>@vboone</td>\n",
       "      <td>Sojourn 2015 Sangiacomo Vineyard Pinot Noir (S...</td>\n",
       "      <td>Pinot Noir</td>\n",
       "      <td>Sojourn</td>\n",
       "    </tr>\n",
       "    <tr>\n",
       "      <th>3</th>\n",
       "      <td>85848</td>\n",
       "      <td>US</td>\n",
       "      <td>Lovely delineation here, the berry/cherry frui...</td>\n",
       "      <td>Ciel du Cheval Vineyard</td>\n",
       "      <td>91</td>\n",
       "      <td>35.0</td>\n",
       "      <td>Washington</td>\n",
       "      <td>Red Mountain</td>\n",
       "      <td>Paul Gregutt</td>\n",
       "      <td>@paulgwine</td>\n",
       "      <td>:Nota Bene 2007 Ciel du Cheval Vineyard Syrah ...</td>\n",
       "      <td>Syrah</td>\n",
       "      <td>:Nota Bene</td>\n",
       "    </tr>\n",
       "    <tr>\n",
       "      <th>4</th>\n",
       "      <td>81254</td>\n",
       "      <td>US</td>\n",
       "      <td>Dry and layered in crisp melon, lime and lemon...</td>\n",
       "      <td>Magnolia Lane</td>\n",
       "      <td>89</td>\n",
       "      <td>17.0</td>\n",
       "      <td>California</td>\n",
       "      <td>Sonoma Valley</td>\n",
       "      <td>Virginie Boone</td>\n",
       "      <td>@vboone</td>\n",
       "      <td>Kunde 2013 Magnolia Lane Sauvignon Blanc (Sono...</td>\n",
       "      <td>Sauvignon Blanc</td>\n",
       "      <td>Kunde</td>\n",
       "    </tr>\n",
       "  </tbody>\n",
       "</table>\n",
       "</div>"
      ],
      "text/plain": [
       "   index country                                        description  \\\n",
       "0  47372      US  Drew is single-handedly making a case for the ...   \n",
       "1  95177      US  Dried sage and a hint of saddle leather highli...   \n",
       "2  49479      US  Earth, mushroom and forest floor intrigue from...   \n",
       "3  85848      US  Lovely delineation here, the berry/cherry frui...   \n",
       "4  81254      US  Dry and layered in crisp melon, lime and lemon...   \n",
       "\n",
       "               designation  points  price    province              region_1  \\\n",
       "0           Perli Vineyard      93   40.0  California       Mendocino Ridge   \n",
       "1        Carlisle Vineyard      91   34.0  California  Russian River Valley   \n",
       "2      Sangiacomo Vineyard      92   59.0  California          Sonoma Coast   \n",
       "3  Ciel du Cheval Vineyard      91   35.0  Washington          Red Mountain   \n",
       "4            Magnolia Lane      89   17.0  California         Sonoma Valley   \n",
       "\n",
       "      taster_name taster_twitter_handle  \\\n",
       "0  Virginie Boone               @vboone   \n",
       "1  Virginie Boone               @vboone   \n",
       "2  Virginie Boone               @vboone   \n",
       "3    Paul Gregutt           @paulgwine    \n",
       "4  Virginie Boone               @vboone   \n",
       "\n",
       "                                               title          variety  \\\n",
       "0   Drew 2011 Perli Vineyard Syrah (Mendocino Ridge)            Syrah   \n",
       "1  Novy 2014 Carlisle Vineyard Zinfandel (Russian...        Zinfandel   \n",
       "2  Sojourn 2015 Sangiacomo Vineyard Pinot Noir (S...       Pinot Noir   \n",
       "3  :Nota Bene 2007 Ciel du Cheval Vineyard Syrah ...            Syrah   \n",
       "4  Kunde 2013 Magnolia Lane Sauvignon Blanc (Sono...  Sauvignon Blanc   \n",
       "\n",
       "       winery  \n",
       "0        Drew  \n",
       "1        Novy  \n",
       "2     Sojourn  \n",
       "3  :Nota Bene  \n",
       "4       Kunde  "
      ]
     },
     "execution_count": 27,
     "metadata": {},
     "output_type": "execute_result"
    }
   ],
   "source": [
    "#for memory optimization\n",
    "wine_reviews_sampled = wine_reviews.sample(25000).reset_index()\n",
    "wine_reviews_sampled.head()"
   ]
  },
  {
   "cell_type": "code",
   "execution_count": 14,
   "metadata": {},
   "outputs": [],
   "source": [
    "stop_words = set(stopwords.words('english'))\n",
    "lemmatizer = WordNetLemmatizer()\n",
    "\n",
    "def preprocess_text(text):\n",
    "    # Remove non-alphabetic characters\n",
    "    text = re.sub('[^a-zA-Z]', ' ', text)\n",
    "    # Tokenize and convert to lowercase\n",
    "    tokens = word_tokenize(text.lower())\n",
    "    # Remove stopwords and lemmatize the words\n",
    "    processed_text = ' '.join([lemmatizer.lemmatize(word) for word in tokens if word not in stop_words])\n",
    "    return processed_text\n",
    "\n",
    "wine_reviews_sampled['processed_description'] = wine_reviews_sampled['description'].apply(preprocess_text)"
   ]
  },
  {
   "cell_type": "code",
   "execution_count": 15,
   "metadata": {},
   "outputs": [],
   "source": [
    "max_features = 700  # Adjust this value based on your available memory\n",
    "tfidf = TfidfVectorizer(max_features=max_features)\n",
    "description_matrix = tfidf.fit_transform(wine_reviews_sampled['processed_description'])"
   ]
  },
  {
   "cell_type": "code",
   "execution_count": 16,
   "metadata": {},
   "outputs": [],
   "source": [
    "similarity_matrix = cosine_similarity(description_matrix)"
   ]
  },
  {
   "cell_type": "code",
   "execution_count": 17,
   "metadata": {},
   "outputs": [],
   "source": [
    "def recommend_wines(wine_title, n_recommendations=5):\n",
    "    # Find the index of the wine with the given title\n",
    "    wine_index = wine_reviews_sampled[wine_reviews_sampled['title'] == wine_title].index[0]\n",
    "    \n",
    "    # Get similarity scores for the given wine\n",
    "    similarity_scores = list(enumerate(similarity_matrix[wine_index]))\n",
    "    # Sort the wines based on the similarity scores\n",
    "    similarity_scores = sorted(similarity_scores, key=lambda x: x[1], reverse=True)\n",
    "    # Get the indices of the most similar wines (excluding the input wine itself)\n",
    "    most_similar_indices = [score[0] for score in similarity_scores[1:n_recommendations+1]]\n",
    "    # Return the names of the most similar wines\n",
    "    return wine_reviews['title'].iloc[most_similar_indices]"
   ]
  },
  {
   "cell_type": "code",
   "execution_count": 26,
   "metadata": {},
   "outputs": [
    {
     "data": {
      "text/plain": [
       "0        Les Vins de Vienne 2010 La Sillote Red (Vacque...\n",
       "1        Jean-Luc Colombo 2015 La Redonne White (Côtes ...\n",
       "2           Michele Chiarlo 2015 Le Orme  (Barbera d'Asti)\n",
       "3        Leah Jørgensen Cellars 2013 Clos Rogue Valley ...\n",
       "4        Greenwood Ridge 2013 Estate Bottled Syrah (Men...\n",
       "                               ...                        \n",
       "24995    Monte Tondo 2011 Foscarin Slavinus  (Soave Cla...\n",
       "24996    MacMurray Estate Vineyards 2013 Winemaker's Bl...\n",
       "24997    Small Vines 2014 Estate Grown Chardonnay (Sono...\n",
       "24998    Barton & Guestier 2007 Thomas Barton Réserve  ...\n",
       "24999                  Artimino 2012 Riserva  (Carmignano)\n",
       "Name: title, Length: 25000, dtype: object"
      ]
     },
     "execution_count": 26,
     "metadata": {},
     "output_type": "execute_result"
    }
   ],
   "source": [
    "wine_reviews_sampled['title']"
   ]
  },
  {
   "cell_type": "code",
   "execution_count": 24,
   "metadata": {},
   "outputs": [
    {
     "name": "stdout",
     "output_type": "stream",
     "text": [
      "41804    Firriato 2012 Santagostino Baglio Sorìa Red (T...\n",
      "65424    AntoLin Cellars 2010 Estate Malbec (Yakima Val...\n",
      "63616    Côte Bonneville 2011 Estate Bottled DuBrul Vin...\n",
      "4039                        Fattori 2015 Runcaris  (Soave)\n",
      "17867                 Durigutti 2012 Reserva Red (Mendoza)\n",
      "Name: title, dtype: object\n"
     ]
    }
   ],
   "source": [
    "wine_title = 'Santi 2008 Proemio  (Amarone della Valpolicella Classico)'  # You can search by wine title\n",
    "recommendations = recommend_wines(wine_title)\n",
    "print(recommendations)"
   ]
  }
 ],
 "metadata": {
  "kernelspec": {
   "display_name": "ds",
   "language": "python",
   "name": "python3"
  },
  "language_info": {
   "codemirror_mode": {
    "name": "ipython",
    "version": 3
   },
   "file_extension": ".py",
   "mimetype": "text/x-python",
   "name": "python",
   "nbconvert_exporter": "python",
   "pygments_lexer": "ipython3",
   "version": "3.8.16"
  },
  "orig_nbformat": 4
 },
 "nbformat": 4,
 "nbformat_minor": 2
}
