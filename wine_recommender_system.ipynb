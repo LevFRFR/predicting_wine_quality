{
 "cells": [
  {
   "cell_type": "code",
   "execution_count": 29,
   "metadata": {},
   "outputs": [
    {
     "name": "stderr",
     "output_type": "stream",
     "text": [
      "[nltk_data] Downloading package stopwords to\n",
      "[nltk_data]     C:\\Users\\Eugene\\AppData\\Roaming\\nltk_data...\n",
      "[nltk_data]   Package stopwords is already up-to-date!\n",
      "[nltk_data] Downloading package punkt to\n",
      "[nltk_data]     C:\\Users\\Eugene\\AppData\\Roaming\\nltk_data...\n",
      "[nltk_data]   Package punkt is already up-to-date!\n",
      "[nltk_data] Downloading package wordnet to\n",
      "[nltk_data]     C:\\Users\\Eugene\\AppData\\Roaming\\nltk_data...\n",
      "[nltk_data]   Package wordnet is already up-to-date!\n",
      "[nltk_data] Downloading package omw-1.4 to\n",
      "[nltk_data]     C:\\Users\\Eugene\\AppData\\Roaming\\nltk_data...\n",
      "[nltk_data]   Package omw-1.4 is already up-to-date!\n"
     ]
    }
   ],
   "source": [
    "import pandas as pd\n",
    "import numpy as np\n",
    "from sklearn.feature_extraction.text import TfidfVectorizer\n",
    "from sklearn.metrics.pairwise import cosine_similarity\n",
    "import nltk\n",
    "nltk.download('stopwords')\n",
    "nltk.download('punkt')\n",
    "nltk.download('wordnet')\n",
    "nltk.download('omw-1.4')\n",
    "from nltk.corpus import stopwords\n",
    "from nltk.stem import WordNetLemmatizer\n",
    "from nltk.tokenize import word_tokenize\n",
    "import re\n",
    "\n",
    "from IPython.display import display, HTML\n",
    "import pandas as pd\n",
    "\n",
    "pd.set_option('display.max_colwidth', None)"
   ]
  },
  {
   "cell_type": "code",
   "execution_count": 30,
   "metadata": {},
   "outputs": [
    {
     "data": {
      "text/plain": [
       "(47673, 12)"
      ]
     },
     "execution_count": 30,
     "metadata": {},
     "output_type": "execute_result"
    }
   ],
   "source": [
    "wine_reviews = pd.read_csv('datasets\\winemag-data-130k-v2.csv').drop(['Unnamed: 0', 'region_2'], axis=1).dropna().drop_duplicates()\n",
    "wine_reviews.head()\n",
    "wine_reviews.shape"
   ]
  },
  {
   "cell_type": "code",
   "execution_count": 31,
   "metadata": {},
   "outputs": [
    {
     "data": {
      "text/html": [
       "<div>\n",
       "<style scoped>\n",
       "    .dataframe tbody tr th:only-of-type {\n",
       "        vertical-align: middle;\n",
       "    }\n",
       "\n",
       "    .dataframe tbody tr th {\n",
       "        vertical-align: top;\n",
       "    }\n",
       "\n",
       "    .dataframe thead th {\n",
       "        text-align: right;\n",
       "    }\n",
       "</style>\n",
       "<table border=\"1\" class=\"dataframe\">\n",
       "  <thead>\n",
       "    <tr style=\"text-align: right;\">\n",
       "      <th></th>\n",
       "      <th>index</th>\n",
       "      <th>country</th>\n",
       "      <th>description</th>\n",
       "      <th>designation</th>\n",
       "      <th>points</th>\n",
       "      <th>price</th>\n",
       "      <th>province</th>\n",
       "      <th>region_1</th>\n",
       "      <th>taster_name</th>\n",
       "      <th>taster_twitter_handle</th>\n",
       "      <th>title</th>\n",
       "      <th>variety</th>\n",
       "      <th>winery</th>\n",
       "    </tr>\n",
       "  </thead>\n",
       "  <tbody>\n",
       "    <tr>\n",
       "      <th>0</th>\n",
       "      <td>32914</td>\n",
       "      <td>Spain</td>\n",
       "      <td>Here's a highly recommended, everyday Ribera del Duero wine that starts with a full, round nose of charcoal, wild berry patch and oak. The oak, however, is tame (just three months of barrel time for this youngster) not forced, thus the cherry and raspberry fruit has vibrancy and balance.</td>\n",
       "      <td>Roble</td>\n",
       "      <td>88</td>\n",
       "      <td>10.0</td>\n",
       "      <td>Northern Spain</td>\n",
       "      <td>Ribera del Duero</td>\n",
       "      <td>Michael Schachner</td>\n",
       "      <td>@wineschach</td>\n",
       "      <td>Condado de Oriza 2006 Roble  (Ribera del Duero)</td>\n",
       "      <td>Tempranillo</td>\n",
       "      <td>Condado de Oriza</td>\n",
       "    </tr>\n",
       "    <tr>\n",
       "      <th>1</th>\n",
       "      <td>99795</td>\n",
       "      <td>Italy</td>\n",
       "      <td>Made with organically cultivated grapes, this savory white offers alluring aromas of yellow stone fruit, pear and white spring flower. Juicy and delicious, the creamy palate doles out succulent yellow peach, golden apple, nectarine and a savory saline note. Tangy acidity lifts the creamy flavors while a hint of white almond graces the finish.</td>\n",
       "      <td>Selvabianca</td>\n",
       "      <td>91</td>\n",
       "      <td>18.0</td>\n",
       "      <td>Tuscany</td>\n",
       "      <td>Vernaccia di San Gimignano</td>\n",
       "      <td>Kerin O’Keefe</td>\n",
       "      <td>@kerinokeefe</td>\n",
       "      <td>Il Colombaio di Santa Chiara 2015 Selvabianca  (Vernaccia di San Gimignano)</td>\n",
       "      <td>Vernaccia</td>\n",
       "      <td>Il Colombaio di Santa Chiara</td>\n",
       "    </tr>\n",
       "    <tr>\n",
       "      <th>2</th>\n",
       "      <td>125810</td>\n",
       "      <td>US</td>\n",
       "      <td>Lava Cap has made a decent version of Barbera here, simple and blueberry-toned but the wine is a tad heavy and overly oaked and bitter on the finish.</td>\n",
       "      <td>Reserve</td>\n",
       "      <td>85</td>\n",
       "      <td>20.0</td>\n",
       "      <td>California</td>\n",
       "      <td>El Dorado</td>\n",
       "      <td>Virginie Boone</td>\n",
       "      <td>@vboone</td>\n",
       "      <td>Lava Cap 2008 Reserve Barbera (El Dorado)</td>\n",
       "      <td>Barbera</td>\n",
       "      <td>Lava Cap</td>\n",
       "    </tr>\n",
       "    <tr>\n",
       "      <th>3</th>\n",
       "      <td>38539</td>\n",
       "      <td>Italy</td>\n",
       "      <td>Featuring Cabernet, Sangiovese, and Merlot, this New World red is big and powerful, with beautiful aromas of berry fruit, smoke, orange rind and spice. The mouth is fully enveloping and downright delicious. It finishes with a blast of black coffee and toast. Big-boned and aggressive, but still fairly friendly. Drink now or hold for up to six years.</td>\n",
       "      <td>Tassinaia</td>\n",
       "      <td>92</td>\n",
       "      <td>55.0</td>\n",
       "      <td>Tuscany</td>\n",
       "      <td>Toscana</td>\n",
       "      <td>Michael Schachner</td>\n",
       "      <td>@wineschach</td>\n",
       "      <td>Castello del Terriccio 1998 Tassinaia Sangiovese (Toscana)</td>\n",
       "      <td>Sangiovese</td>\n",
       "      <td>Castello del Terriccio</td>\n",
       "    </tr>\n",
       "    <tr>\n",
       "      <th>4</th>\n",
       "      <td>835</td>\n",
       "      <td>France</td>\n",
       "      <td>Attractive cherry flavors give a ripe, rounded feel that's balanced by the acidity and tannins. Black cherries burst easily from the glass, delivering a full aftertaste.</td>\n",
       "      <td>Flower Label</td>\n",
       "      <td>86</td>\n",
       "      <td>12.0</td>\n",
       "      <td>Beaujolais</td>\n",
       "      <td>Beaujolais</td>\n",
       "      <td>Roger Voss</td>\n",
       "      <td>@vossroger</td>\n",
       "      <td>Georges Duboeuf 2013 Flower Label  (Beaujolais)</td>\n",
       "      <td>Gamay</td>\n",
       "      <td>Georges Duboeuf</td>\n",
       "    </tr>\n",
       "  </tbody>\n",
       "</table>\n",
       "</div>"
      ],
      "text/plain": [
       "    index country  \\\n",
       "0   32914   Spain   \n",
       "1   99795   Italy   \n",
       "2  125810      US   \n",
       "3   38539   Italy   \n",
       "4     835  France   \n",
       "\n",
       "                                                                                                                                                                                                                                                                                                                                                      description  \\\n",
       "0                                                                Here's a highly recommended, everyday Ribera del Duero wine that starts with a full, round nose of charcoal, wild berry patch and oak. The oak, however, is tame (just three months of barrel time for this youngster) not forced, thus the cherry and raspberry fruit has vibrancy and balance.   \n",
       "1        Made with organically cultivated grapes, this savory white offers alluring aromas of yellow stone fruit, pear and white spring flower. Juicy and delicious, the creamy palate doles out succulent yellow peach, golden apple, nectarine and a savory saline note. Tangy acidity lifts the creamy flavors while a hint of white almond graces the finish.   \n",
       "2                                                                                                                                                                                                           Lava Cap has made a decent version of Barbera here, simple and blueberry-toned but the wine is a tad heavy and overly oaked and bitter on the finish.   \n",
       "3  Featuring Cabernet, Sangiovese, and Merlot, this New World red is big and powerful, with beautiful aromas of berry fruit, smoke, orange rind and spice. The mouth is fully enveloping and downright delicious. It finishes with a blast of black coffee and toast. Big-boned and aggressive, but still fairly friendly. Drink now or hold for up to six years.   \n",
       "4                                                                                                                                                                                       Attractive cherry flavors give a ripe, rounded feel that's balanced by the acidity and tannins. Black cherries burst easily from the glass, delivering a full aftertaste.   \n",
       "\n",
       "    designation  points  price        province                    region_1  \\\n",
       "0         Roble      88   10.0  Northern Spain            Ribera del Duero   \n",
       "1   Selvabianca      91   18.0         Tuscany  Vernaccia di San Gimignano   \n",
       "2       Reserve      85   20.0      California                   El Dorado   \n",
       "3     Tassinaia      92   55.0         Tuscany                     Toscana   \n",
       "4  Flower Label      86   12.0      Beaujolais                  Beaujolais   \n",
       "\n",
       "         taster_name taster_twitter_handle  \\\n",
       "0  Michael Schachner           @wineschach   \n",
       "1      Kerin O’Keefe          @kerinokeefe   \n",
       "2     Virginie Boone               @vboone   \n",
       "3  Michael Schachner           @wineschach   \n",
       "4         Roger Voss            @vossroger   \n",
       "\n",
       "                                                                         title  \\\n",
       "0                              Condado de Oriza 2006 Roble  (Ribera del Duero)   \n",
       "1  Il Colombaio di Santa Chiara 2015 Selvabianca  (Vernaccia di San Gimignano)   \n",
       "2                                    Lava Cap 2008 Reserve Barbera (El Dorado)   \n",
       "3                   Castello del Terriccio 1998 Tassinaia Sangiovese (Toscana)   \n",
       "4                              Georges Duboeuf 2013 Flower Label  (Beaujolais)   \n",
       "\n",
       "       variety                        winery  \n",
       "0  Tempranillo              Condado de Oriza  \n",
       "1    Vernaccia  Il Colombaio di Santa Chiara  \n",
       "2      Barbera                      Lava Cap  \n",
       "3   Sangiovese        Castello del Terriccio  \n",
       "4        Gamay               Georges Duboeuf  "
      ]
     },
     "execution_count": 31,
     "metadata": {},
     "output_type": "execute_result"
    }
   ],
   "source": [
    "#for memory optimization\n",
    "wine_reviews_sampled = wine_reviews.sample(25000).reset_index()\n",
    "wine_reviews_sampled.head()"
   ]
  },
  {
   "cell_type": "code",
   "execution_count": 32,
   "metadata": {},
   "outputs": [],
   "source": [
    "stop_words = set(stopwords.words('english'))\n",
    "lemmatizer = WordNetLemmatizer()\n",
    "\n",
    "def preprocess_text(text):\n",
    "    # Remove non-alphabetic characters\n",
    "    text = re.sub('[^a-zA-Z]', ' ', text)\n",
    "    # Tokenize and convert to lowercase\n",
    "    tokens = word_tokenize(text.lower())\n",
    "    # Remove stopwords and lemmatize the words\n",
    "    processed_text = ' '.join([lemmatizer.lemmatize(word) for word in tokens if word not in stop_words])\n",
    "    return processed_text\n",
    "\n",
    "wine_reviews_sampled['processed_description'] = wine_reviews_sampled['description'].apply(preprocess_text)"
   ]
  },
  {
   "cell_type": "code",
   "execution_count": 33,
   "metadata": {},
   "outputs": [],
   "source": [
    "max_features = 700  # Adjust this value based on your available memory\n",
    "tfidf = TfidfVectorizer(max_features=max_features)\n",
    "description_matrix = tfidf.fit_transform(wine_reviews_sampled['processed_description'])"
   ]
  },
  {
   "cell_type": "code",
   "execution_count": 34,
   "metadata": {},
   "outputs": [],
   "source": [
    "similarity_matrix = cosine_similarity(description_matrix)"
   ]
  },
  {
   "cell_type": "code",
   "execution_count": 35,
   "metadata": {},
   "outputs": [],
   "source": [
    "def recommend_wines(wine_title, n_recommendations=5):\n",
    "    # Find the index of the wine with the given title\n",
    "    wine_index = wine_reviews_sampled[wine_reviews_sampled['title'] == wine_title].index[0]\n",
    "    \n",
    "    # Get similarity scores for the given wine\n",
    "    similarity_scores = list(enumerate(similarity_matrix[wine_index]))\n",
    "    # Sort the wines based on the similarity scores\n",
    "    similarity_scores = sorted(similarity_scores, key=lambda x: x[1], reverse=True)\n",
    "    # Get the indices of the most similar wines (excluding the input wine itself)\n",
    "    most_similar_indices = [score[0] for score in similarity_scores[1:n_recommendations+1]]\n",
    "    # Return the names of the most similar wines\n",
    "    return wine_reviews['title'].iloc[most_similar_indices]"
   ]
  },
  {
   "cell_type": "code",
   "execution_count": 36,
   "metadata": {},
   "outputs": [
    {
     "data": {
      "text/plain": [
       "0                                    Condado de Oriza 2006 Roble  (Ribera del Duero)\n",
       "1        Il Colombaio di Santa Chiara 2015 Selvabianca  (Vernaccia di San Gimignano)\n",
       "2                                          Lava Cap 2008 Reserve Barbera (El Dorado)\n",
       "3                         Castello del Terriccio 1998 Tassinaia Sangiovese (Toscana)\n",
       "4                                    Georges Duboeuf 2013 Flower Label  (Beaujolais)\n",
       "                                            ...                                     \n",
       "24995                                   Lenné Estate 2012 Karen's Pommard Pinot Noir\n",
       "24996              Left Coast Cellars 2010 Left Bank Pinot Blanc (Willamette Valley)\n",
       "24997            Katnook Estate 2014 Founder's Block Cabernet Sauvignon (Coonawarra)\n",
       "24998                                    Drytown 2014 Estate Rosé (Sierra Foothills)\n",
       "24999                                      Donnafugata 2016 Anthilia White (Sicilia)\n",
       "Name: title, Length: 25000, dtype: object"
      ]
     },
     "execution_count": 36,
     "metadata": {},
     "output_type": "execute_result"
    }
   ],
   "source": [
    "wine_reviews_sampled['title']"
   ]
  },
  {
   "cell_type": "code",
   "execution_count": 38,
   "metadata": {},
   "outputs": [
    {
     "data": {
      "text/plain": [
       "11576     Cadaretta 2014 Southwind Red (Walla Walla Valley (WA))\n",
       "23648                Cusumano 2014 Benuara Red (Terre Siciliane)\n",
       "25349    Dunham 2008 Lewis Vineyard Syrah (Columbia Valley (WA))\n",
       "23301        Zocker 2012 Paragon Vineyard Riesling (Edna Valley)\n",
       "47236              Muga 2011 Conde de Haro Brut Sparkling (Cava)\n",
       "Name: title, dtype: object"
      ]
     },
     "metadata": {},
     "output_type": "display_data"
    }
   ],
   "source": [
    "wine_title = 'Condado de Oriza 2006 Roble  (Ribera del Duero)'  # You can search by wine title\n",
    "recommendations = recommend_wines(wine_title)\n",
    "display(recommendations)"
   ]
  }
 ],
 "metadata": {
  "kernelspec": {
   "display_name": "ds",
   "language": "python",
   "name": "python3"
  },
  "language_info": {
   "codemirror_mode": {
    "name": "ipython",
    "version": 3
   },
   "file_extension": ".py",
   "mimetype": "text/x-python",
   "name": "python",
   "nbconvert_exporter": "python",
   "pygments_lexer": "ipython3",
   "version": "3.8.16"
  },
  "orig_nbformat": 4
 },
 "nbformat": 4,
 "nbformat_minor": 2
}
