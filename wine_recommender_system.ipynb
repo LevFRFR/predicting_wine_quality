{
 "cells": [
  {
   "cell_type": "code",
   "execution_count": 1,
   "metadata": {},
   "outputs": [
    {
     "name": "stderr",
     "output_type": "stream",
     "text": [
      "[nltk_data] Downloading package stopwords to\n",
      "[nltk_data]     C:\\Users\\Eugene\\AppData\\Roaming\\nltk_data...\n",
      "[nltk_data]   Package stopwords is already up-to-date!\n",
      "[nltk_data] Downloading package punkt to\n",
      "[nltk_data]     C:\\Users\\Eugene\\AppData\\Roaming\\nltk_data...\n",
      "[nltk_data]   Package punkt is already up-to-date!\n",
      "[nltk_data] Downloading package wordnet to\n",
      "[nltk_data]     C:\\Users\\Eugene\\AppData\\Roaming\\nltk_data...\n",
      "[nltk_data]   Package wordnet is already up-to-date!\n",
      "[nltk_data] Downloading package omw-1.4 to\n",
      "[nltk_data]     C:\\Users\\Eugene\\AppData\\Roaming\\nltk_data...\n",
      "[nltk_data]   Package omw-1.4 is already up-to-date!\n"
     ]
    }
   ],
   "source": [
    "import pandas as pd\n",
    "import numpy as np\n",
    "from sklearn.feature_extraction.text import TfidfVectorizer\n",
    "from sklearn.metrics.pairwise import cosine_similarity\n",
    "import nltk\n",
    "nltk.download('stopwords')\n",
    "nltk.download('punkt')\n",
    "nltk.download('wordnet')\n",
    "nltk.download('omw-1.4')\n",
    "from nltk.corpus import stopwords\n",
    "from nltk.stem import WordNetLemmatizer\n",
    "from nltk.tokenize import word_tokenize\n",
    "import re\n",
    "import pickle\n",
    "\n",
    "from IPython.display import display, HTML\n",
    "import pandas as pd\n",
    "\n",
    "pd.set_option('display.max_colwidth', None)"
   ]
  },
  {
   "cell_type": "code",
   "execution_count": 2,
   "metadata": {},
   "outputs": [
    {
     "data": {
      "text/plain": [
       "(47673, 12)"
      ]
     },
     "execution_count": 2,
     "metadata": {},
     "output_type": "execute_result"
    }
   ],
   "source": [
    "wine_reviews = pd.read_csv('datasets\\winemag-data-130k-v2.csv').drop(['Unnamed: 0', 'region_2'], axis=1).dropna().drop_duplicates()\n",
    "wine_reviews.head()\n",
    "wine_reviews.shape"
   ]
  },
  {
   "cell_type": "code",
   "execution_count": 3,
   "metadata": {},
   "outputs": [
    {
     "data": {
      "text/html": [
       "<div>\n",
       "<style scoped>\n",
       "    .dataframe tbody tr th:only-of-type {\n",
       "        vertical-align: middle;\n",
       "    }\n",
       "\n",
       "    .dataframe tbody tr th {\n",
       "        vertical-align: top;\n",
       "    }\n",
       "\n",
       "    .dataframe thead th {\n",
       "        text-align: right;\n",
       "    }\n",
       "</style>\n",
       "<table border=\"1\" class=\"dataframe\">\n",
       "  <thead>\n",
       "    <tr style=\"text-align: right;\">\n",
       "      <th></th>\n",
       "      <th>index</th>\n",
       "      <th>country</th>\n",
       "      <th>description</th>\n",
       "      <th>designation</th>\n",
       "      <th>points</th>\n",
       "      <th>price</th>\n",
       "      <th>province</th>\n",
       "      <th>region_1</th>\n",
       "      <th>taster_name</th>\n",
       "      <th>taster_twitter_handle</th>\n",
       "      <th>title</th>\n",
       "      <th>variety</th>\n",
       "      <th>winery</th>\n",
       "    </tr>\n",
       "  </thead>\n",
       "  <tbody>\n",
       "    <tr>\n",
       "      <th>0</th>\n",
       "      <td>47648</td>\n",
       "      <td>France</td>\n",
       "      <td>Concentrated citrus fruit sings on nose and palate. The body reveals a stony, mineral texture of exquisitely clean dryness. There is the slightest edge of pleasant bitterness, just like in dried lemon peel. Linear, concentrated with lots of citric backbone. Drink 2016–2025.</td>\n",
       "      <td>Hatschbourg Grand Cru</td>\n",
       "      <td>92</td>\n",
       "      <td>30.0</td>\n",
       "      <td>Alsace</td>\n",
       "      <td>Alsace</td>\n",
       "      <td>Anne Krebiehl MW</td>\n",
       "      <td>@AnneInVino</td>\n",
       "      <td>Joseph Cattin 2013 Hatschbourg Grand Cru Riesling (Alsace)</td>\n",
       "      <td>Riesling</td>\n",
       "      <td>Joseph Cattin</td>\n",
       "    </tr>\n",
       "    <tr>\n",
       "      <th>1</th>\n",
       "      <td>42223</td>\n",
       "      <td>US</td>\n",
       "      <td>Thick tannins obscure some of the richer flavors trying to burst through in this wine, a mix of blackberry, black olive and cedar. Full bodied and generous in every way, it finishes with a slow drag of smoke.</td>\n",
       "      <td>Las Amigas Vineyard</td>\n",
       "      <td>88</td>\n",
       "      <td>60.0</td>\n",
       "      <td>California</td>\n",
       "      <td>Carneros</td>\n",
       "      <td>Virginie Boone</td>\n",
       "      <td>@vboone</td>\n",
       "      <td>Signorello 2012 Las Amigas Vineyard Pinot Noir (Carneros)</td>\n",
       "      <td>Pinot Noir</td>\n",
       "      <td>Signorello</td>\n",
       "    </tr>\n",
       "    <tr>\n",
       "      <th>2</th>\n",
       "      <td>40661</td>\n",
       "      <td>Australia</td>\n",
       "      <td>The De Bortoli family does a solid job with Chardonnay—even this entry-level wine shows some complexity and finesse. Hints of smoke and graphite frame bright pineapple and lime flavors, delivered without excessive weight or richness.</td>\n",
       "      <td>DB Family Selection</td>\n",
       "      <td>85</td>\n",
       "      <td>9.0</td>\n",
       "      <td>Australia Other</td>\n",
       "      <td>Australia</td>\n",
       "      <td>Joe Czerwinski</td>\n",
       "      <td>@JoeCz</td>\n",
       "      <td>De Bortoli 2013 DB Family Selection Chardonnay (Australia)</td>\n",
       "      <td>Chardonnay</td>\n",
       "      <td>De Bortoli</td>\n",
       "    </tr>\n",
       "    <tr>\n",
       "      <th>3</th>\n",
       "      <td>105586</td>\n",
       "      <td>Argentina</td>\n",
       "      <td>This meaty, ripe Syrah is smoky and deep on the nose, with lusty berry aromas. The palate is tannic but supported by bold, fleshy blackberry flavors backed by maple, vanilla and burnt toast. Caramel richness makes its way onto the finish, which is rocky and tannic but tastes good. This value Syrah was built for grilled meat.</td>\n",
       "      <td>Cosecha Nocturna</td>\n",
       "      <td>88</td>\n",
       "      <td>12.0</td>\n",
       "      <td>Mendoza Province</td>\n",
       "      <td>Mendoza</td>\n",
       "      <td>Michael Schachner</td>\n",
       "      <td>@wineschach</td>\n",
       "      <td>Domiciano de Barrancas 2012 Cosecha Nocturna Syrah (Mendoza)</td>\n",
       "      <td>Syrah</td>\n",
       "      <td>Domiciano de Barrancas</td>\n",
       "    </tr>\n",
       "    <tr>\n",
       "      <th>4</th>\n",
       "      <td>66393</td>\n",
       "      <td>Italy</td>\n",
       "      <td>Musclebound with an earthy, spicy character to the nose. The body is fleshy but pure, offering black cherry flavors accented by tar and licorice. It finishes smooth, with just the right touch of vanilla oak. It's a polished Brunello, good for near-term drinking, but also a candidate for the cellar.</td>\n",
       "      <td>Greppone Mazzi</td>\n",
       "      <td>90</td>\n",
       "      <td>60.0</td>\n",
       "      <td>Tuscany</td>\n",
       "      <td>Brunello di Montalcino</td>\n",
       "      <td>Michael Schachner</td>\n",
       "      <td>@wineschach</td>\n",
       "      <td>Ruffino 1997 Greppone Mazzi  (Brunello di Montalcino)</td>\n",
       "      <td>Sangiovese</td>\n",
       "      <td>Ruffino</td>\n",
       "    </tr>\n",
       "  </tbody>\n",
       "</table>\n",
       "</div>"
      ],
      "text/plain": [
       "    index    country  \\\n",
       "0   47648     France   \n",
       "1   42223         US   \n",
       "2   40661  Australia   \n",
       "3  105586  Argentina   \n",
       "4   66393      Italy   \n",
       "\n",
       "                                                                                                                                                                                                                                                                                                                              description  \\\n",
       "0                                                      Concentrated citrus fruit sings on nose and palate. The body reveals a stony, mineral texture of exquisitely clean dryness. There is the slightest edge of pleasant bitterness, just like in dried lemon peel. Linear, concentrated with lots of citric backbone. Drink 2016–2025.   \n",
       "1                                                                                                                        Thick tannins obscure some of the richer flavors trying to burst through in this wine, a mix of blackberry, black olive and cedar. Full bodied and generous in every way, it finishes with a slow drag of smoke.   \n",
       "2                                                                                               The De Bortoli family does a solid job with Chardonnay—even this entry-level wine shows some complexity and finesse. Hints of smoke and graphite frame bright pineapple and lime flavors, delivered without excessive weight or richness.   \n",
       "3  This meaty, ripe Syrah is smoky and deep on the nose, with lusty berry aromas. The palate is tannic but supported by bold, fleshy blackberry flavors backed by maple, vanilla and burnt toast. Caramel richness makes its way onto the finish, which is rocky and tannic but tastes good. This value Syrah was built for grilled meat.   \n",
       "4                             Musclebound with an earthy, spicy character to the nose. The body is fleshy but pure, offering black cherry flavors accented by tar and licorice. It finishes smooth, with just the right touch of vanilla oak. It's a polished Brunello, good for near-term drinking, but also a candidate for the cellar.   \n",
       "\n",
       "             designation  points  price          province  \\\n",
       "0  Hatschbourg Grand Cru      92   30.0            Alsace   \n",
       "1    Las Amigas Vineyard      88   60.0        California   \n",
       "2    DB Family Selection      85    9.0   Australia Other   \n",
       "3       Cosecha Nocturna      88   12.0  Mendoza Province   \n",
       "4         Greppone Mazzi      90   60.0           Tuscany   \n",
       "\n",
       "                 region_1        taster_name taster_twitter_handle  \\\n",
       "0                  Alsace   Anne Krebiehl MW           @AnneInVino   \n",
       "1                Carneros     Virginie Boone               @vboone   \n",
       "2               Australia     Joe Czerwinski                @JoeCz   \n",
       "3                 Mendoza  Michael Schachner           @wineschach   \n",
       "4  Brunello di Montalcino  Michael Schachner           @wineschach   \n",
       "\n",
       "                                                          title     variety  \\\n",
       "0    Joseph Cattin 2013 Hatschbourg Grand Cru Riesling (Alsace)    Riesling   \n",
       "1     Signorello 2012 Las Amigas Vineyard Pinot Noir (Carneros)  Pinot Noir   \n",
       "2    De Bortoli 2013 DB Family Selection Chardonnay (Australia)  Chardonnay   \n",
       "3  Domiciano de Barrancas 2012 Cosecha Nocturna Syrah (Mendoza)       Syrah   \n",
       "4         Ruffino 1997 Greppone Mazzi  (Brunello di Montalcino)  Sangiovese   \n",
       "\n",
       "                   winery  \n",
       "0           Joseph Cattin  \n",
       "1              Signorello  \n",
       "2              De Bortoli  \n",
       "3  Domiciano de Barrancas  \n",
       "4                 Ruffino  "
      ]
     },
     "execution_count": 3,
     "metadata": {},
     "output_type": "execute_result"
    }
   ],
   "source": [
    "#for memory optimization\n",
    "wine_reviews_sampled = wine_reviews.sample(25000).reset_index()\n",
    "wine_reviews_sampled.head()"
   ]
  },
  {
   "cell_type": "code",
   "execution_count": 4,
   "metadata": {},
   "outputs": [],
   "source": [
    "stop_words = set(stopwords.words('english'))\n",
    "lemmatizer = WordNetLemmatizer()\n",
    "\n",
    "def preprocess_text(text):\n",
    "    # Remove non-alphabetic characters\n",
    "    text = re.sub('[^a-zA-Z]', ' ', text)\n",
    "    # Tokenize and convert to lowercase\n",
    "    tokens = word_tokenize(text.lower())\n",
    "    # Remove stopwords and lemmatize the words\n",
    "    processed_text = ' '.join([lemmatizer.lemmatize(word) for word in tokens if word not in stop_words])\n",
    "    return processed_text\n",
    "\n",
    "wine_reviews_sampled['processed_description'] = wine_reviews_sampled['description'].apply(preprocess_text)"
   ]
  },
  {
   "cell_type": "code",
   "execution_count": 5,
   "metadata": {},
   "outputs": [],
   "source": [
    "max_features = 700  # Adjust this value based on your available memory\n",
    "tfidf = TfidfVectorizer(max_features=max_features)\n",
    "description_matrix = tfidf.fit_transform(wine_reviews_sampled['processed_description'])"
   ]
  },
  {
   "cell_type": "code",
   "execution_count": 6,
   "metadata": {},
   "outputs": [],
   "source": [
    "similarity_matrix = cosine_similarity(description_matrix)"
   ]
  },
  {
   "cell_type": "code",
   "execution_count": 7,
   "metadata": {},
   "outputs": [],
   "source": [
    "def recommend_wines(wine_title, n_recommendations=5):\n",
    "    # Find the index of the wine with the given title\n",
    "    wine_index = wine_reviews_sampled[wine_reviews_sampled['title'] == wine_title].index[0]\n",
    "    \n",
    "    # Get similarity scores for the given wine\n",
    "    similarity_scores = list(enumerate(similarity_matrix[wine_index]))\n",
    "    # Sort the wines based on the similarity scores\n",
    "    similarity_scores = sorted(similarity_scores, key=lambda x: x[1], reverse=True)\n",
    "    # Get the indices of the most similar wines (excluding the input wine itself)\n",
    "    most_similar_indices = [score[0] for score in similarity_scores[1:n_recommendations+1]]\n",
    "    # Return the names of the most similar wines\n",
    "    return wine_reviews['title'].iloc[most_similar_indices]"
   ]
  },
  {
   "cell_type": "code",
   "execution_count": 8,
   "metadata": {},
   "outputs": [
    {
     "data": {
      "text/plain": [
       "0                                     Joseph Cattin 2013 Hatschbourg Grand Cru Riesling (Alsace)\n",
       "1                                      Signorello 2012 Las Amigas Vineyard Pinot Noir (Carneros)\n",
       "2                                     De Bortoli 2013 DB Family Selection Chardonnay (Australia)\n",
       "3                                   Domiciano de Barrancas 2012 Cosecha Nocturna Syrah (Mendoza)\n",
       "4                                          Ruffino 1997 Greppone Mazzi  (Brunello di Montalcino)\n",
       "                                                  ...                                           \n",
       "24995                                                 Manos Negras 2015 Atrevida Malbec (Agrelo)\n",
       "24996                                   Roblar 2013 Gold Collection Chardonnay (Sta. Rita Hills)\n",
       "24997                                           Comm. G. B. Burlotto 2013 Aves  (Barbera d'Alba)\n",
       "24998                           Tondré 2013 Tondre Grapefield Pinot Noir (Santa Lucia Highlands)\n",
       "24999    Canoe Ridge 2012 The Expedition Canoe Ridge Estate Vineyard Merlot (Horse Heaven Hills)\n",
       "Name: title, Length: 25000, dtype: object"
      ]
     },
     "execution_count": 8,
     "metadata": {},
     "output_type": "execute_result"
    }
   ],
   "source": [
    "wine_reviews_sampled['title']"
   ]
  },
  {
   "cell_type": "code",
   "execution_count": 9,
   "metadata": {},
   "outputs": [
    {
     "data": {
      "text/plain": [
       "33284                                   Jorge Ordóñez & Co. 2014 Botani Moscato (Málaga)\n",
       "56545                                 Celler Pasanau 2004 Finca La Planeta Red (Priorat)\n",
       "1507                              Château de Gaudou 2009 Réserve Caillou Malbec (Cahors)\n",
       "56156                                        Badia di Morrona 2012 N'Antia Red (Toscana)\n",
       "554      Mas de Cadenet 2015 Mas Negrel Cadenet Rosé (Côtes de Provence Sainte-Victoire)\n",
       "Name: title, dtype: object"
      ]
     },
     "metadata": {},
     "output_type": "display_data"
    }
   ],
   "source": [
    "wine_title = 'Condado de Oriza 2006 Roble  (Ribera del Duero)'  # You can search by wine title\n",
    "recommendations = recommend_wines(wine_title)\n",
    "display(recommendations)"
   ]
  },
  {
   "cell_type": "code",
   "execution_count": 10,
   "metadata": {},
   "outputs": [],
   "source": [
    "# import pickle\n",
    "#\n",
    "\n",
    "# with open(\"wine_recommender.pkl\", \"wb\") as f:\n",
    "#     pickle.dump((wine_reviews_sampled['title'], similarity_matrix), f)"
   ]
  }
 ],
 "metadata": {
  "kernelspec": {
   "display_name": "ds",
   "language": "python",
   "name": "python3"
  },
  "language_info": {
   "codemirror_mode": {
    "name": "ipython",
    "version": 3
   },
   "file_extension": ".py",
   "mimetype": "text/x-python",
   "name": "python",
   "nbconvert_exporter": "python",
   "pygments_lexer": "ipython3",
   "version": "3.8.16"
  },
  "orig_nbformat": 4,
  "vscode": {
   "interpreter": {
    "hash": "ad14541a3a9bbb1e690bcdad7542c5b94fc5d38b1f10e265e38c65295405fc23"
   }
  }
 },
 "nbformat": 4,
 "nbformat_minor": 2
}
